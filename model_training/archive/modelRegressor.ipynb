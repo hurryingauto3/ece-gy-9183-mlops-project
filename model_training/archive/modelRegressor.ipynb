{
 "cells": [
  {
   "cell_type": "code",
   "execution_count": 47,
   "id": "4b3328a1",
   "metadata": {},
   "outputs": [],
   "source": [
    "from torch.utils.data import Dataset\n",
    "import torch\n",
    "import pandas as pd\n",
    "import json\n",
    "import os\n",
    "from pathlib import Path\n",
    "import torch\n",
    "import torch.nn as nn\n",
    "\n",
    "class CropYieldDataset(Dataset):\n",
    "    def __init__(self, data_lake_dir=\"../data/data_lake_organized\", crop_name=\"corn\", transform=None):\n",
    "        self.samples = []\n",
    "        self.transform = transform\n",
    "        self.crop_name = crop_name.lower()\n",
    "        \n",
    "        fips_folders = [f for f in Path(data_lake_dir).iterdir() if f.is_dir()]\n",
    "        \n",
    "        for fips_folder in fips_folders:\n",
    "            crop_json_path = fips_folder / f\"{self.crop_name}.json\"\n",
    "            if not crop_json_path.exists():\n",
    "                continue\n",
    "            \n",
    "            with open(crop_json_path, 'r') as f:\n",
    "                yield_data = json.load(f)\n",
    "            \n",
    "            year_folders = [y for y in fips_folder.iterdir() if y.is_dir()]\n",
    "            \n",
    "            for year_folder in year_folders:\n",
    "                year = year_folder.name\n",
    "                weather_csv = year_folder / f\"WeatherTimeSeries{year}.csv\"\n",
    "                \n",
    "                if not weather_csv.exists():\n",
    "                    continue\n",
    "                if year not in yield_data:\n",
    "                    continue\n",
    "                \n",
    "                df = pd.read_csv(weather_csv)\n",
    "                \n",
    "                # Only keep April–October\n",
    "                df = df[(df['Month'] >= 4) & (df['Month'] <= 10)]\n",
    "\n",
    "                # Drop non-weather columns\n",
    "                df = df.drop(columns=['Year', 'Month', 'Day'], errors='ignore')\n",
    "\n",
    "                # Make sure it's float tensor\n",
    "                weather_tensor = torch.tensor(df.values, dtype=torch.float32)\n",
    "\n",
    "                # Target\n",
    "                yield_target = torch.tensor(yield_data[year]['yield'], dtype=torch.float32)\n",
    "\n",
    "                self.samples.append((weather_tensor, yield_target))\n",
    "    \n",
    "    def __len__(self):\n",
    "        return len(self.samples)\n",
    "\n",
    "    def __getitem__(self, idx):\n",
    "        x, y = self.samples[idx]\n",
    "        if self.transform:\n",
    "            x = self.transform(x)\n",
    "        return x, y"
   ]
  },
  {
   "cell_type": "markdown",
   "id": "55e80b0b",
   "metadata": {},
   "source": [
    "LSTM + TCN MODEL"
   ]
  },
  {
   "cell_type": "code",
   "execution_count": 48,
   "id": "621ae296",
   "metadata": {},
   "outputs": [],
   "source": [
    "class LSTMTCNRegressor(nn.Module):\n",
    "    def __init__(self, input_dim, hidden_dim=64, lstm_layers=1, tcn_channels=[64, 32]):\n",
    "        super(LSTMTCNRegressor, self).__init__()\n",
    "        \n",
    "        self.lstm = nn.LSTM(input_dim, hidden_dim, num_layers=lstm_layers, batch_first=True)\n",
    "        \n",
    "        # TCN part: using 1D Convolutions\n",
    "        self.tcn = nn.Sequential(\n",
    "            nn.Conv1d(hidden_dim, tcn_channels[0], kernel_size=3, padding=1),\n",
    "            nn.ReLU(),\n",
    "            nn.Conv1d(tcn_channels[0], tcn_channels[1], kernel_size=3, padding=1),\n",
    "            nn.ReLU(),\n",
    "            nn.AdaptiveAvgPool1d(1)  # output shape: (batch, channels, 1)\n",
    "        )\n",
    "        \n",
    "        self.fc = nn.Linear(tcn_channels[-1], 1)\n",
    "    \n",
    "    def forward(self, x):\n",
    "        # x shape: (batch, time_steps, features)\n",
    "        out, _ = self.lstm(x)  # (batch, time_steps, hidden_dim)\n",
    "        out = out.permute(0, 2, 1)  # (batch, hidden_dim, time_steps) for Conv1D\n",
    "        out = self.tcn(out)  # (batch, channels, 1)\n",
    "        out = out.squeeze(-1)  # (batch, channels)\n",
    "        out = self.fc(out)  # (batch, 1)\n",
    "        return out.squeeze(-1)"
   ]
  },
  {
   "cell_type": "markdown",
   "id": "d29112fb",
   "metadata": {},
   "source": [
    "Training Loop"
   ]
  },
  {
   "cell_type": "code",
   "execution_count": 49,
   "id": "08584701",
   "metadata": {},
   "outputs": [],
   "source": [
    "from torch.utils.data import DataLoader\n",
    "import torch.optim as optim\n",
    "import tqdm\n",
    "\n",
    "def train_model(model, dataloader, num_epochs=30, lr=1e-3):\n",
    "    device = torch.device(\"cuda\" if torch.cuda.is_available() else \"cpu\")\n",
    "    model = model.to(device)\n",
    "    \n",
    "    criterion = nn.MSELoss()\n",
    "    optimizer = optim.Adam(model.parameters(), lr=lr)\n",
    "    \n",
    "    model.train()\n",
    "    for epoch in tqdm.tqdm(range(num_epochs), desc=\"Training Progress\"):\n",
    "        epoch_loss = 0\n",
    "        for x_batch, y_batch in dataloader:\n",
    "            x_batch, y_batch = x_batch.to(device), y_batch.to(device)\n",
    "            \n",
    "            optimizer.zero_grad()\n",
    "            y_pred = model(x_batch)\n",
    "            loss = criterion(y_pred, y_batch)\n",
    "            loss.backward()\n",
    "            optimizer.step()\n",
    "            \n",
    "            epoch_loss += loss.item()\n",
    "        \"\"\" tqdm.tqdm.write(f\"Epoch {epoch+1}/{num_epochs} - Loss: {epoch_loss/len(dataloader):.4f}\")\n",
    "        tqdm.tqdm.set_description(f\"Training Progress (Epoch {epoch+1} Loss: {epoch_loss/len(dataloader):.4f})\") \"\"\"\n",
    "    \n",
    "    return model"
   ]
  },
  {
   "cell_type": "markdown",
   "id": "b736232f",
   "metadata": {},
   "source": []
  },
  {
   "cell_type": "code",
   "execution_count": 50,
   "id": "baff4e42",
   "metadata": {},
   "outputs": [
    {
     "name": "stderr",
     "output_type": "stream",
     "text": [
      "Training Progress: 100%|██████████| 30/30 [00:36<00:00,  1.22s/it]\n"
     ]
    }
   ],
   "source": [
    "dataset = CropYieldDataset(crop_name=\"corn\")\n",
    "dataloader = DataLoader(dataset, batch_size=32, shuffle=True, collate_fn=lambda x: (nn.utils.rnn.pad_sequence([i[0] for i in x], batch_first=True), torch.stack([i[1] for i in x])))\n",
    "\n",
    "# Example input_dim = number of weather features\n",
    "input_dim = next(iter(dataloader))[0].shape[-1]\n",
    "\n",
    "model = LSTMTCNRegressor(input_dim=input_dim)\n",
    "trained_model = train_model(model, dataloader)"
   ]
  },
  {
   "cell_type": "markdown",
   "id": "3e625084",
   "metadata": {},
   "source": [
    "Split the Dataset (Train/Validation)"
   ]
  },
  {
   "cell_type": "code",
   "execution_count": null,
   "id": "9452cd9b",
   "metadata": {},
   "outputs": [],
   "source": [
    "from torch.utils.data import random_split\n",
    "\n",
    "def get_dataloaders(dataset, train_ratio=0.8, batch_size=32):\n",
    "    \"\"\"\n",
    "    Splits the dataset into training and validation sets.\n",
    "    \"\"\"\n",
    "    total_len = len(dataset)\n",
    "    train_len = int(total_len * train_ratio)\n",
    "    val_len = total_len - train_len\n",
    "    \n",
    "    train_dataset, val_dataset = random_split(dataset, [train_len, val_len])\n",
    "\n",
    "    def collate_fn(batch):\n",
    "        xs = [b[0] for b in batch]\n",
    "        ys = [b[1] for b in batch]\n",
    "        xs = nn.utils.rnn.pad_sequence(xs, batch_first=True)                                                                \n",
    "        ys = torch.stack(ys)\n",
    "        return xs, ys\n",
    "\n",
    "    train_loader = DataLoader(train_dataset, batch_size=batch_size, shuffle=True, collate_fn=collate_fn)\n",
    "    val_loader = DataLoader(val_dataset, batch_size=batch_size, shuffle=False, collate_fn=collate_fn)\n",
    "\n",
    "    return train_loader, val_loader"
   ]
  },
  {
   "cell_type": "markdown",
   "id": "2fb073f1",
   "metadata": {},
   "source": [
    "Update training to track Validation Loss"
   ]
  },
  {
   "cell_type": "code",
   "execution_count": 52,
   "id": "fcb58725",
   "metadata": {},
   "outputs": [],
   "source": [
    "def train_model(model, train_loader, val_loader, num_epochs=30, lr=1e-3):\n",
    "    device = torch.device(\"cuda\" if torch.cuda.is_available() else \"cpu\")\n",
    "    model = model.to(device)\n",
    "    \n",
    "    criterion = nn.MSELoss()\n",
    "    optimizer = optim.Adam(model.parameters(), lr=lr)\n",
    "    \n",
    "    model.train()\n",
    "    for epoch in tqdm.tqdm(range(num_epochs), desc=\"Training Progress\"):\n",
    "        epoch_loss = 0\n",
    "        model.train()\n",
    "        for x_batch, y_batch in train_loader:\n",
    "            x_batch, y_batch = x_batch.to(device), y_batch.to(device)\n",
    "            \n",
    "            optimizer.zero_grad()\n",
    "            y_pred = model(x_batch)\n",
    "            loss = criterion(y_pred, y_batch)\n",
    "            loss.backward()\n",
    "            optimizer.step()\n",
    "            \n",
    "            epoch_loss += loss.item()\n",
    "        \n",
    "        # Validation loss\n",
    "        model.eval()\n",
    "        val_loss = 0\n",
    "        with torch.no_grad():\n",
    "            for x_val, y_val in val_loader:\n",
    "                x_val, y_val = x_val.to(device), y_val.to(device)\n",
    "                y_pred = model(x_val)\n",
    "                val_loss += criterion(y_pred, y_val).item()\n",
    "        \n",
    "        \"\"\" print(f\"Epoch {epoch+1}/{num_epochs} - Train Loss: {epoch_loss/len(train_loader):.4f} - Val Loss: {val_loss/len(val_loader):.4f}\") \"\"\"\n",
    "    \n",
    "    return model"
   ]
  },
  {
   "cell_type": "markdown",
   "id": "8d77c595",
   "metadata": {},
   "source": [
    "Evaluate Final RMSE and MAE"
   ]
  },
  {
   "cell_type": "code",
   "execution_count": 53,
   "id": "84cea5d6",
   "metadata": {},
   "outputs": [],
   "source": [
    "from sklearn.metrics import mean_squared_error, mean_absolute_error\n",
    "\n",
    "def evaluate_model(model, val_loader):\n",
    "    device = torch.device(\"cuda\" if torch.cuda.is_available() else \"cpu\")\n",
    "    model.eval()\n",
    "    y_true = []\n",
    "    y_pred = []\n",
    "    \n",
    "    with torch.no_grad():\n",
    "        for x_val, y_val in val_loader:\n",
    "            x_val = x_val.to(device)\n",
    "            outputs = model(x_val)\n",
    "            y_true.extend(y_val.numpy())\n",
    "            y_pred.extend(outputs.cpu().numpy())\n",
    "    \n",
    "    rmse = mean_squared_error(y_true, y_pred, squared=False)\n",
    "    mae = mean_absolute_error(y_true, y_pred)\n",
    "\n",
    "    print(f\"Final Validation RMSE: {rmse:.4f}\")\n",
    "    print(f\" Final Validation MAE: {mae:.4f}\")\n",
    "\n",
    "    return rmse, mae"
   ]
  },
  {
   "cell_type": "code",
   "execution_count": 54,
   "id": "1e5bfffe",
   "metadata": {},
   "outputs": [
    {
     "name": "stderr",
     "output_type": "stream",
     "text": [
      "Training Progress: 100%|██████████| 30/30 [00:27<00:00,  1.11it/s]"
     ]
    },
    {
     "name": "stdout",
     "output_type": "stream",
     "text": [
      "Final Validation RMSE: 19.0617\n",
      " Final Validation MAE: 15.5421\n"
     ]
    },
    {
     "name": "stderr",
     "output_type": "stream",
     "text": [
      "\n",
      "c:\\Users\\saadh\\anaconda3\\Lib\\site-packages\\sklearn\\metrics\\_regression.py:492: FutureWarning: 'squared' is deprecated in version 1.4 and will be removed in 1.6. To calculate the root mean squared error, use the function'root_mean_squared_error'.\n",
      "  warnings.warn(\n"
     ]
    },
    {
     "data": {
      "text/plain": [
       "(19.061686, 15.542116)"
      ]
     },
     "execution_count": 54,
     "metadata": {},
     "output_type": "execute_result"
    }
   ],
   "source": [
    "dataset = CropYieldDataset(crop_name=\"corn\")\n",
    "train_loader, val_loader = get_dataloaders(dataset)\n",
    "\n",
    "# Detect input_dim\n",
    "input_dim = next(iter(train_loader))[0].shape[-1]\n",
    "\n",
    "model = LSTMTCNRegressor(input_dim=input_dim)\n",
    "trained_model = train_model(model, train_loader, val_loader, num_epochs=30)\n",
    "\n",
    "# Evaluate\n",
    "evaluate_model(trained_model, val_loader)"
   ]
  },
  {
   "cell_type": "markdown",
   "id": "02a713b1",
   "metadata": {},
   "source": [
    "| Strategy | Why it would help |\n",
    "|:--|:--|\n",
    "| Slightly increase LSTM hidden size (e.g., 128) | Capture more complex patterns |\n",
    "| Add dropout (e.g., 0.2) between LSTM layers | Reduce overfitting further |\n",
    "| Use a learning rate scheduler (cosine annealing) | Achieve more stable final convergence |\n",
    "| Train for more epochs with early stopping | Allow better convergence and avoid overfitting |\n",
    "| Normalize yield targets across counties | Handle variance across different yield scales |"
   ]
  },
  {
   "cell_type": "markdown",
   "id": "18c39ace",
   "metadata": {},
   "source": [
    "Key hyperparameters to tune\n",
    "\n",
    "| Hyperparameter | Values to try |\n",
    "|:--|:--|\n",
    "| LSTM hidden_dim | [64, 128, 256] |\n",
    "| LSTM num_layers | [1, 2] |\n",
    "| TCN channels | [[64, 32], [128, 64], [128, 128]] |\n",
    "| Dropout | [0.0, 0.1, 0.2, 0.3] |\n",
    "| Learning Rate | [1e-3, 5e-4, 1e-4] |"
   ]
  },
  {
   "cell_type": "code",
   "execution_count": 57,
   "id": "50fa304f",
   "metadata": {},
   "outputs": [],
   "source": [
    "import random\n",
    "import numpy as np\n",
    "\n",
    "def random_search_hyperparameters(\n",
    "    dataset,\n",
    "    num_trials=10,\n",
    "    batch_size=32,\n",
    "    num_epochs=30,\n",
    "    device=None\n",
    "):\n",
    "    best_rmse = np.inf\n",
    "    best_params = None\n",
    "    best_model = None\n",
    "\n",
    "    train_loader, val_loader = get_dataloaders(dataset, batch_size=batch_size)\n",
    "\n",
    "    input_dim = next(iter(train_loader))[0].shape[-1]\n",
    "\n",
    "    for trial in range(num_trials):\n",
    "        # Randomly sample hyperparameters\n",
    "        hidden_dim = random.choice([64, 128, 256])\n",
    "        lstm_layers = random.choice([1, 2])\n",
    "        tcn_channels = random.choice([[64, 32], [128, 64], [128, 128]])\n",
    "        dropout_rate = random.choice([0.0, 0.1, 0.2, 0.3])\n",
    "        lr = random.choice([1e-3, 5e-4, 1e-4])\n",
    "\n",
    "        print(f\"\\nTrial {trial+1}/{num_trials}\")\n",
    "        print(f\"LSTM hidden_dim: {hidden_dim}, LSTM layers: {lstm_layers}, TCN channels: {tcn_channels}, Dropout: {dropout_rate}, LR: {lr}\")\n",
    "\n",
    "        model = LSTMTCNRegressor(\n",
    "            input_dim=input_dim,\n",
    "            hidden_dim=hidden_dim,\n",
    "            lstm_layers=lstm_layers,\n",
    "            tcn_channels=tcn_channels\n",
    "        )\n",
    "\n",
    "        trained_model = train_model(model, train_loader, val_loader, num_epochs=num_epochs, lr=lr)\n",
    "        \n",
    "        # Evaluate\n",
    "        rmse, mae = evaluate_model(trained_model, val_loader)\n",
    "\n",
    "        # Save if best\n",
    "        if rmse < best_rmse:\n",
    "            best_rmse = rmse\n",
    "            best_params = {\n",
    "                'hidden_dim': hidden_dim,\n",
    "                'lstm_layers': lstm_layers,\n",
    "                'tcn_channels': tcn_channels,\n",
    "                'dropout': dropout_rate,\n",
    "                'lr': lr\n",
    "            }\n",
    "            best_model = trained_model\n",
    "\n",
    "    print(\"\\n🏆 Best RMSE:\", best_rmse)\n",
    "    print(\"🏆 Best Hyperparameters:\", best_params)\n",
    "\n",
    "    return best_model, best_params"
   ]
  },
  {
   "cell_type": "code",
   "execution_count": 58,
   "id": "39455b4c",
   "metadata": {},
   "outputs": [
    {
     "name": "stdout",
     "output_type": "stream",
     "text": [
      "\n",
      "Trial 1/10\n",
      "LSTM hidden_dim: 256, LSTM layers: 2, TCN channels: [128, 64], Dropout: 0.2, LR: 0.0005\n"
     ]
    },
    {
     "name": "stderr",
     "output_type": "stream",
     "text": [
      "Training Progress: 100%|██████████| 30/30 [08:47<00:00, 17.58s/it]\n",
      "c:\\Users\\saadh\\anaconda3\\Lib\\site-packages\\sklearn\\metrics\\_regression.py:492: FutureWarning: 'squared' is deprecated in version 1.4 and will be removed in 1.6. To calculate the root mean squared error, use the function'root_mean_squared_error'.\n",
      "  warnings.warn(\n"
     ]
    },
    {
     "name": "stdout",
     "output_type": "stream",
     "text": [
      "Final Validation RMSE: 21.1194\n",
      " Final Validation MAE: 17.4745\n",
      "\n",
      "Trial 2/10\n",
      "LSTM hidden_dim: 128, LSTM layers: 2, TCN channels: [64, 32], Dropout: 0.0, LR: 0.0005\n"
     ]
    },
    {
     "name": "stderr",
     "output_type": "stream",
     "text": [
      "Training Progress: 100%|██████████| 30/30 [02:30<00:00,  5.00s/it]\n",
      "c:\\Users\\saadh\\anaconda3\\Lib\\site-packages\\sklearn\\metrics\\_regression.py:492: FutureWarning: 'squared' is deprecated in version 1.4 and will be removed in 1.6. To calculate the root mean squared error, use the function'root_mean_squared_error'.\n",
      "  warnings.warn(\n"
     ]
    },
    {
     "name": "stdout",
     "output_type": "stream",
     "text": [
      "Final Validation RMSE: 21.1733\n",
      " Final Validation MAE: 17.0673\n",
      "\n",
      "Trial 3/10\n",
      "LSTM hidden_dim: 128, LSTM layers: 1, TCN channels: [128, 128], Dropout: 0.1, LR: 0.0001\n"
     ]
    },
    {
     "name": "stderr",
     "output_type": "stream",
     "text": [
      "Training Progress: 100%|██████████| 30/30 [02:16<00:00,  4.53s/it]\n",
      "c:\\Users\\saadh\\anaconda3\\Lib\\site-packages\\sklearn\\metrics\\_regression.py:492: FutureWarning: 'squared' is deprecated in version 1.4 and will be removed in 1.6. To calculate the root mean squared error, use the function'root_mean_squared_error'.\n",
      "  warnings.warn(\n"
     ]
    },
    {
     "name": "stdout",
     "output_type": "stream",
     "text": [
      "Final Validation RMSE: 21.1231\n",
      " Final Validation MAE: 17.0922\n",
      "\n",
      "Trial 4/10\n",
      "LSTM hidden_dim: 256, LSTM layers: 1, TCN channels: [128, 64], Dropout: 0.3, LR: 0.0005\n"
     ]
    },
    {
     "name": "stderr",
     "output_type": "stream",
     "text": [
      "Training Progress:   0%|          | 0/30 [00:00<?, ?it/s]\n"
     ]
    },
    {
     "ename": "KeyboardInterrupt",
     "evalue": "",
     "output_type": "error",
     "traceback": [
      "\u001b[1;31m---------------------------------------------------------------------------\u001b[0m",
      "\u001b[1;31mKeyboardInterrupt\u001b[0m                         Traceback (most recent call last)",
      "Cell \u001b[1;32mIn[58], line 2\u001b[0m\n\u001b[0;32m      1\u001b[0m dataset \u001b[38;5;241m=\u001b[39m CropYieldDataset(crop_name\u001b[38;5;241m=\u001b[39m\u001b[38;5;124m\"\u001b[39m\u001b[38;5;124mcorn\u001b[39m\u001b[38;5;124m\"\u001b[39m)\n\u001b[1;32m----> 2\u001b[0m best_model, best_params \u001b[38;5;241m=\u001b[39m \u001b[43mrandom_search_hyperparameters\u001b[49m\u001b[43m(\u001b[49m\u001b[43mdataset\u001b[49m\u001b[43m,\u001b[49m\u001b[43m \u001b[49m\u001b[43mnum_trials\u001b[49m\u001b[38;5;241;43m=\u001b[39;49m\u001b[38;5;241;43m10\u001b[39;49m\u001b[43m,\u001b[49m\u001b[43m \u001b[49m\u001b[43mbatch_size\u001b[49m\u001b[38;5;241;43m=\u001b[39;49m\u001b[38;5;241;43m32\u001b[39;49m\u001b[43m,\u001b[49m\u001b[43m \u001b[49m\u001b[43mnum_epochs\u001b[49m\u001b[38;5;241;43m=\u001b[39;49m\u001b[38;5;241;43m30\u001b[39;49m\u001b[43m)\u001b[49m\n",
      "Cell \u001b[1;32mIn[57], line 37\u001b[0m, in \u001b[0;36mrandom_search_hyperparameters\u001b[1;34m(dataset, num_trials, batch_size, num_epochs, device)\u001b[0m\n\u001b[0;32m     28\u001b[0m \u001b[38;5;28mprint\u001b[39m(\u001b[38;5;124mf\u001b[39m\u001b[38;5;124m\"\u001b[39m\u001b[38;5;124mLSTM hidden_dim: \u001b[39m\u001b[38;5;132;01m{\u001b[39;00mhidden_dim\u001b[38;5;132;01m}\u001b[39;00m\u001b[38;5;124m, LSTM layers: \u001b[39m\u001b[38;5;132;01m{\u001b[39;00mlstm_layers\u001b[38;5;132;01m}\u001b[39;00m\u001b[38;5;124m, TCN channels: \u001b[39m\u001b[38;5;132;01m{\u001b[39;00mtcn_channels\u001b[38;5;132;01m}\u001b[39;00m\u001b[38;5;124m, Dropout: \u001b[39m\u001b[38;5;132;01m{\u001b[39;00mdropout_rate\u001b[38;5;132;01m}\u001b[39;00m\u001b[38;5;124m, LR: \u001b[39m\u001b[38;5;132;01m{\u001b[39;00mlr\u001b[38;5;132;01m}\u001b[39;00m\u001b[38;5;124m\"\u001b[39m)\n\u001b[0;32m     30\u001b[0m model \u001b[38;5;241m=\u001b[39m LSTMTCNRegressor(\n\u001b[0;32m     31\u001b[0m     input_dim\u001b[38;5;241m=\u001b[39minput_dim,\n\u001b[0;32m     32\u001b[0m     hidden_dim\u001b[38;5;241m=\u001b[39mhidden_dim,\n\u001b[0;32m     33\u001b[0m     lstm_layers\u001b[38;5;241m=\u001b[39mlstm_layers,\n\u001b[0;32m     34\u001b[0m     tcn_channels\u001b[38;5;241m=\u001b[39mtcn_channels\n\u001b[0;32m     35\u001b[0m )\n\u001b[1;32m---> 37\u001b[0m trained_model \u001b[38;5;241m=\u001b[39m \u001b[43mtrain_model\u001b[49m\u001b[43m(\u001b[49m\u001b[43mmodel\u001b[49m\u001b[43m,\u001b[49m\u001b[43m \u001b[49m\u001b[43mtrain_loader\u001b[49m\u001b[43m,\u001b[49m\u001b[43m \u001b[49m\u001b[43mval_loader\u001b[49m\u001b[43m,\u001b[49m\u001b[43m \u001b[49m\u001b[43mnum_epochs\u001b[49m\u001b[38;5;241;43m=\u001b[39;49m\u001b[43mnum_epochs\u001b[49m\u001b[43m,\u001b[49m\u001b[43m \u001b[49m\u001b[43mlr\u001b[49m\u001b[38;5;241;43m=\u001b[39;49m\u001b[43mlr\u001b[49m\u001b[43m)\u001b[49m\n\u001b[0;32m     39\u001b[0m \u001b[38;5;66;03m# Evaluate\u001b[39;00m\n\u001b[0;32m     40\u001b[0m rmse, mae \u001b[38;5;241m=\u001b[39m evaluate_model(trained_model, val_loader)\n",
      "Cell \u001b[1;32mIn[52], line 18\u001b[0m, in \u001b[0;36mtrain_model\u001b[1;34m(model, train_loader, val_loader, num_epochs, lr)\u001b[0m\n\u001b[0;32m     16\u001b[0m y_pred \u001b[38;5;241m=\u001b[39m model(x_batch)\n\u001b[0;32m     17\u001b[0m loss \u001b[38;5;241m=\u001b[39m criterion(y_pred, y_batch)\n\u001b[1;32m---> 18\u001b[0m \u001b[43mloss\u001b[49m\u001b[38;5;241;43m.\u001b[39;49m\u001b[43mbackward\u001b[49m\u001b[43m(\u001b[49m\u001b[43m)\u001b[49m\n\u001b[0;32m     19\u001b[0m optimizer\u001b[38;5;241m.\u001b[39mstep()\n\u001b[0;32m     21\u001b[0m epoch_loss \u001b[38;5;241m+\u001b[39m\u001b[38;5;241m=\u001b[39m loss\u001b[38;5;241m.\u001b[39mitem()\n",
      "File \u001b[1;32mc:\\Users\\saadh\\anaconda3\\Lib\\site-packages\\torch\\_tensor.py:626\u001b[0m, in \u001b[0;36mTensor.backward\u001b[1;34m(self, gradient, retain_graph, create_graph, inputs)\u001b[0m\n\u001b[0;32m    616\u001b[0m \u001b[38;5;28;01mif\u001b[39;00m has_torch_function_unary(\u001b[38;5;28mself\u001b[39m):\n\u001b[0;32m    617\u001b[0m     \u001b[38;5;28;01mreturn\u001b[39;00m handle_torch_function(\n\u001b[0;32m    618\u001b[0m         Tensor\u001b[38;5;241m.\u001b[39mbackward,\n\u001b[0;32m    619\u001b[0m         (\u001b[38;5;28mself\u001b[39m,),\n\u001b[1;32m   (...)\u001b[0m\n\u001b[0;32m    624\u001b[0m         inputs\u001b[38;5;241m=\u001b[39minputs,\n\u001b[0;32m    625\u001b[0m     )\n\u001b[1;32m--> 626\u001b[0m \u001b[43mtorch\u001b[49m\u001b[38;5;241;43m.\u001b[39;49m\u001b[43mautograd\u001b[49m\u001b[38;5;241;43m.\u001b[39;49m\u001b[43mbackward\u001b[49m\u001b[43m(\u001b[49m\n\u001b[0;32m    627\u001b[0m \u001b[43m    \u001b[49m\u001b[38;5;28;43mself\u001b[39;49m\u001b[43m,\u001b[49m\u001b[43m \u001b[49m\u001b[43mgradient\u001b[49m\u001b[43m,\u001b[49m\u001b[43m \u001b[49m\u001b[43mretain_graph\u001b[49m\u001b[43m,\u001b[49m\u001b[43m \u001b[49m\u001b[43mcreate_graph\u001b[49m\u001b[43m,\u001b[49m\u001b[43m \u001b[49m\u001b[43minputs\u001b[49m\u001b[38;5;241;43m=\u001b[39;49m\u001b[43minputs\u001b[49m\n\u001b[0;32m    628\u001b[0m \u001b[43m\u001b[49m\u001b[43m)\u001b[49m\n",
      "File \u001b[1;32mc:\\Users\\saadh\\anaconda3\\Lib\\site-packages\\torch\\autograd\\__init__.py:347\u001b[0m, in \u001b[0;36mbackward\u001b[1;34m(tensors, grad_tensors, retain_graph, create_graph, grad_variables, inputs)\u001b[0m\n\u001b[0;32m    342\u001b[0m     retain_graph \u001b[38;5;241m=\u001b[39m create_graph\n\u001b[0;32m    344\u001b[0m \u001b[38;5;66;03m# The reason we repeat the same comment below is that\u001b[39;00m\n\u001b[0;32m    345\u001b[0m \u001b[38;5;66;03m# some Python versions print out the first line of a multi-line function\u001b[39;00m\n\u001b[0;32m    346\u001b[0m \u001b[38;5;66;03m# calls in the traceback and some print out the last line\u001b[39;00m\n\u001b[1;32m--> 347\u001b[0m \u001b[43m_engine_run_backward\u001b[49m\u001b[43m(\u001b[49m\n\u001b[0;32m    348\u001b[0m \u001b[43m    \u001b[49m\u001b[43mtensors\u001b[49m\u001b[43m,\u001b[49m\n\u001b[0;32m    349\u001b[0m \u001b[43m    \u001b[49m\u001b[43mgrad_tensors_\u001b[49m\u001b[43m,\u001b[49m\n\u001b[0;32m    350\u001b[0m \u001b[43m    \u001b[49m\u001b[43mretain_graph\u001b[49m\u001b[43m,\u001b[49m\n\u001b[0;32m    351\u001b[0m \u001b[43m    \u001b[49m\u001b[43mcreate_graph\u001b[49m\u001b[43m,\u001b[49m\n\u001b[0;32m    352\u001b[0m \u001b[43m    \u001b[49m\u001b[43minputs\u001b[49m\u001b[43m,\u001b[49m\n\u001b[0;32m    353\u001b[0m \u001b[43m    \u001b[49m\u001b[43mallow_unreachable\u001b[49m\u001b[38;5;241;43m=\u001b[39;49m\u001b[38;5;28;43;01mTrue\u001b[39;49;00m\u001b[43m,\u001b[49m\n\u001b[0;32m    354\u001b[0m \u001b[43m    \u001b[49m\u001b[43maccumulate_grad\u001b[49m\u001b[38;5;241;43m=\u001b[39;49m\u001b[38;5;28;43;01mTrue\u001b[39;49;00m\u001b[43m,\u001b[49m\n\u001b[0;32m    355\u001b[0m \u001b[43m\u001b[49m\u001b[43m)\u001b[49m\n",
      "File \u001b[1;32mc:\\Users\\saadh\\anaconda3\\Lib\\site-packages\\torch\\autograd\\graph.py:823\u001b[0m, in \u001b[0;36m_engine_run_backward\u001b[1;34m(t_outputs, *args, **kwargs)\u001b[0m\n\u001b[0;32m    821\u001b[0m     unregister_hooks \u001b[38;5;241m=\u001b[39m _register_logging_hooks_on_whole_graph(t_outputs)\n\u001b[0;32m    822\u001b[0m \u001b[38;5;28;01mtry\u001b[39;00m:\n\u001b[1;32m--> 823\u001b[0m     \u001b[38;5;28;01mreturn\u001b[39;00m \u001b[43mVariable\u001b[49m\u001b[38;5;241;43m.\u001b[39;49m\u001b[43m_execution_engine\u001b[49m\u001b[38;5;241;43m.\u001b[39;49m\u001b[43mrun_backward\u001b[49m\u001b[43m(\u001b[49m\u001b[43m  \u001b[49m\u001b[38;5;66;43;03m# Calls into the C++ engine to run the backward pass\u001b[39;49;00m\n\u001b[0;32m    824\u001b[0m \u001b[43m        \u001b[49m\u001b[43mt_outputs\u001b[49m\u001b[43m,\u001b[49m\u001b[43m \u001b[49m\u001b[38;5;241;43m*\u001b[39;49m\u001b[43margs\u001b[49m\u001b[43m,\u001b[49m\u001b[43m \u001b[49m\u001b[38;5;241;43m*\u001b[39;49m\u001b[38;5;241;43m*\u001b[39;49m\u001b[43mkwargs\u001b[49m\n\u001b[0;32m    825\u001b[0m \u001b[43m    \u001b[49m\u001b[43m)\u001b[49m  \u001b[38;5;66;03m# Calls into the C++ engine to run the backward pass\u001b[39;00m\n\u001b[0;32m    826\u001b[0m \u001b[38;5;28;01mfinally\u001b[39;00m:\n\u001b[0;32m    827\u001b[0m     \u001b[38;5;28;01mif\u001b[39;00m attach_logging_hooks:\n",
      "\u001b[1;31mKeyboardInterrupt\u001b[0m: "
     ]
    }
   ],
   "source": [
    "dataset = CropYieldDataset(crop_name=\"corn\")\n",
    "best_model, best_params = random_search_hyperparameters(dataset, num_trials=10, batch_size=32, num_epochs=30)"
   ]
  },
  {
   "cell_type": "code",
   "execution_count": null,
   "id": "00f55b64",
   "metadata": {},
   "outputs": [],
   "source": [
    "torch.save(best_model.state_dict(), \"best_model.pt\")"
   ]
  }
 ],
 "metadata": {
  "kernelspec": {
   "display_name": "base",
   "language": "python",
   "name": "python3"
  },
  "language_info": {
   "codemirror_mode": {
    "name": "ipython",
    "version": 3
   },
   "file_extension": ".py",
   "mimetype": "text/x-python",
   "name": "python",
   "nbconvert_exporter": "python",
   "pygments_lexer": "ipython3",
   "version": "3.12.7"
  }
 },
 "nbformat": 4,
 "nbformat_minor": 5
}
