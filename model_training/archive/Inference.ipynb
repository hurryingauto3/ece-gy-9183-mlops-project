{
 "cells": [
  {
   "cell_type": "code",
   "execution_count": 2,
   "id": "054ba0a9",
   "metadata": {},
   "outputs": [],
   "source": [
    "from torch.utils.data import Dataset\n",
    "import torch\n",
    "import pandas as pd\n",
    "import json\n",
    "import os\n",
    "from pathlib import Path\n",
    "import torch\n",
    "import torch.nn as nn"
   ]
  },
  {
   "cell_type": "code",
   "execution_count": 3,
   "id": "d33c3308",
   "metadata": {},
   "outputs": [],
   "source": [
    "class LSTMTCNRegressor(nn.Module):\n",
    "    def __init__(self, input_dim, hidden_dim=64, lstm_layers=1, tcn_channels=[64, 32]):\n",
    "        super(LSTMTCNRegressor, self).__init__()\n",
    "        \n",
    "        self.lstm = nn.LSTM(input_dim, hidden_dim, num_layers=lstm_layers, batch_first=True)\n",
    "        \n",
    "        # TCN part: using 1D Convolutions\n",
    "        self.tcn = nn.Sequential(\n",
    "            nn.Conv1d(hidden_dim, tcn_channels[0], kernel_size=3, padding=1),\n",
    "            nn.ReLU(),\n",
    "            nn.Conv1d(tcn_channels[0], tcn_channels[1], kernel_size=3, padding=1),\n",
    "            nn.ReLU(),\n",
    "            nn.AdaptiveAvgPool1d(1)  # output shape: (batch, channels, 1)\n",
    "        )\n",
    "        \n",
    "        self.fc = nn.Linear(tcn_channels[-1], 1)\n",
    "    \n",
    "    def forward(self, x):\n",
    "        # x shape: (batch, time_steps, features)\n",
    "        out, _ = self.lstm(x)  # (batch, time_steps, hidden_dim)\n",
    "        out = out.permute(0, 2, 1)  # (batch, hidden_dim, time_steps) for Conv1D\n",
    "        out = self.tcn(out)  # (batch, channels, 1)\n",
    "        out = out.squeeze(-1)  # (batch, channels)\n",
    "        out = self.fc(out)  # (batch, 1)\n",
    "        return out.squeeze(-1)"
   ]
  },
  {
   "cell_type": "markdown",
   "id": "3102d3e8",
   "metadata": {},
   "source": [
    "Loading the model"
   ]
  }
 ],
 "metadata": {
  "kernelspec": {
   "display_name": "base",
   "language": "python",
   "name": "python3"
  },
  "language_info": {
   "codemirror_mode": {
    "name": "ipython",
    "version": 3
   },
   "file_extension": ".py",
   "mimetype": "text/x-python",
   "name": "python",
   "nbconvert_exporter": "python",
   "pygments_lexer": "ipython3",
   "version": "3.12.7"
  }
 },
 "nbformat": 4,
 "nbformat_minor": 5
}
