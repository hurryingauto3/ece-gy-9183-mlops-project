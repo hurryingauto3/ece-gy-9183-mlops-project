{
 "cells": [
  {
   "cell_type": "code",
   "execution_count": null,
   "id": "e010a32d",
   "metadata": {},
   "outputs": [],
   "source": [
    "import os\n",
    "\n",
    "os.environ[\"MLFLOW_TRACKING_URI\"] = \"http://mlflow:5001\"\n",
    "os.environ[\"MLFLOW_MODEL_NAME\"] = \"AgriYieldPredictor\"\n",
    "os.environ[\"MLFLOW_EXPERIMENT_NAME\"] = \"Crop Yield Training\"\n",
    "os.environ[\"FS_OPENSTACK_SWIFT_CONTAINER_NAME\"] = \"object-persist-project-4\"\n",
    "os.environ[\"OS_APPLICATION_CREDENTIAL_ID\"] = \"<your-app-cred-id>\"\n",
    "os.environ[\"OS_APPLICATION_CREDENTIAL_SECRET\"] = \"<your-app-cred-secret>\"\n",
    "os.environ[\"OS_REGION_NAME\"] = \"CHI@TACC\"\n",
    "os.environ[\"OS_SWIFT_CONTAINER_NAME\"] = os.environ[\"FS_OPENSTACK_SWIFT_CONTAINER_NAME\"]\n"
   ]
  },
  {
   "cell_type": "code",
   "execution_count": null,
   "id": "ae4e25a5",
   "metadata": {},
   "outputs": [],
   "source": [
    "config = {\n",
    "    \"batch_size\": 32,\n",
    "    \"epochs\": 10,\n",
    "    \"lr\": 1e-3,\n",
    "    \"hidden_dim\": 64,\n",
    "    \"fips_embedding_dim\": 16,\n",
    "    \"lstm_layers\": 1,\n",
    "    \"tcn_channels\": [64, 32],\n",
    "    \"dropout_rate\": 0.1,\n",
    "}"
   ]
  },
  {
   "cell_type": "markdown",
   "id": "2b77d7a1",
   "metadata": {},
   "source": [
    "### Fetch Train/Eval/Test CSVs"
   ]
  },
  {
   "cell_type": "code",
   "execution_count": null,
   "id": "c51785f5",
   "metadata": {},
   "outputs": [],
   "source": [
    "from fetch_data import download_csvs_from_swift\n",
    "download_csvs_from_swift(output_dir=\"output\")"
   ]
  },
  {
   "cell_type": "markdown",
   "id": "05f99b51",
   "metadata": {},
   "source": [
    "### Load Dataset"
   ]
  },
  {
   "cell_type": "code",
   "execution_count": null,
   "id": "ef3ec635",
   "metadata": {},
   "outputs": [],
   "source": [
    "from pathlib import Path\n",
    "from load_data import MultiCropYieldDataset\n",
    "\n",
    "root = Path(\"/mnt/swift_store/transformed_data\")\n",
    "train_ds = MultiCropYieldDataset(root / \"train.csv\")\n",
    "eval_ds = MultiCropYieldDataset(root / \"eval.csv\")"
   ]
  },
  {
   "cell_type": "markdown",
   "id": "7367f7db",
   "metadata": {},
   "source": [
    "### Initialize Model"
   ]
  },
  {
   "cell_type": "code",
   "execution_count": null,
   "id": "618056c9",
   "metadata": {},
   "outputs": [],
   "source": [
    "from model import LSTMTCNRegressor\n",
    "\n",
    "input_dim = train_ds[0][0].shape[1]\n",
    "num_fips = train_ds.get_num_fips()\n",
    "num_crops = train_ds.get_num_crops()\n",
    "\n",
    "model = LSTMTCNRegressor(\n",
    "    input_dim=input_dim,\n",
    "    num_fips=num_fips,\n",
    "    num_crops=num_crops,\n",
    "    fips_embedding_dim=16,\n",
    "    hidden_dim=64,\n",
    "    lstm_layers=1,\n",
    "    tcn_channels=[64, 32],\n",
    "    dropout_rate=0.1\n",
    ")"
   ]
  },
  {
   "cell_type": "markdown",
   "id": "3ca5223e",
   "metadata": {},
   "source": [
    "### Train & Log to MLflow"
   ]
  },
  {
   "cell_type": "code",
   "execution_count": null,
   "id": "20102ad2",
   "metadata": {},
   "outputs": [],
   "source": [
    "import mlflow\n",
    "from utils import train_model, collate_fn\n",
    "import torch\n",
    "\n",
    "mlflow.set_tracking_uri(os.environ[\"MLFLOW_TRACKING_URI\"])\n",
    "mlflow.set_experiment(os.environ[\"MLFLOW_EXPERIMENT_NAME\"])\n",
    "\n",
    "train_loader = torch.utils.data.DataLoader(train_ds, batch_size=32, shuffle=True, collate_fn=collate_fn)\n",
    "eval_loader = torch.utils.data.DataLoader(eval_ds, batch_size=32, shuffle=False, collate_fn=collate_fn)\n",
    "\n",
    "with mlflow.start_run(log_system_metrics=True):\n",
    "    mlflow.log_params({\n",
    "        \"batch_size\": 32,\n",
    "        \"epochs\": 10,\n",
    "        \"lr\": 1e-3,\n",
    "        \"hidden_dim\": 64,\n",
    "        \"tcn_channels\": [64, 32]\n",
    "    })\n",
    "    \n",
    "    model = train_model(model, train_loader, eval_loader, num_epochs=10, lr=1e-3)\n",
    "    mlflow.pytorch.log_model(model, \"model\")"
   ]
  },
  {
   "cell_type": "markdown",
   "id": "ae126419",
   "metadata": {},
   "source": [
    "### Promote Model"
   ]
  },
  {
   "cell_type": "code",
   "execution_count": null,
   "id": "0e86eb83",
   "metadata": {},
   "outputs": [],
   "source": [
    "from mlflow.tracking import MlflowClient\n",
    "\n",
    "client = MlflowClient()\n",
    "model_name = os.environ[\"MLFLOW_MODEL_NAME\"]\n",
    "\n",
    "versions = client.get_latest_versions(model_name, stages=[\"None\"])\n",
    "if versions:\n",
    "    latest = versions[0]\n",
    "    client.transition_model_version_stage(\n",
    "        name=model_name,\n",
    "        version=latest.version,\n",
    "        stage=\"Staging\"\n",
    "    )\n",
    "else:\n",
    "    print(\"No model in 'None' stage to promote.\")"
   ]
  },
  {
   "cell_type": "markdown",
   "id": "b3cae343",
   "metadata": {},
   "source": [
    "### Predict from Registry"
   ]
  },
  {
   "cell_type": "code",
   "execution_count": null,
   "id": "3faf6e61",
   "metadata": {},
   "outputs": [],
   "source": [
    "from predict import main as run_prediction\n",
    "import sys\n",
    "\n",
    "sys.argv = [\n",
    "    \"predict.py\",\n",
    "    \"--stage\", \"Staging\",\n",
    "    \"--fips-id\", \"0\",\n",
    "    \"--crop-id\", \"0\",\n",
    "    \"--csv\", \"output/test.csv\"\n",
    "]\n",
    "run_prediction()"
   ]
  }
 ],
 "metadata": {
  "kernelspec": {
   "display_name": "base",
   "language": "python",
   "name": "python3"
  },
  "language_info": {
   "name": "python",
   "version": "3.12.7"
  }
 },
 "nbformat": 4,
 "nbformat_minor": 5
}
