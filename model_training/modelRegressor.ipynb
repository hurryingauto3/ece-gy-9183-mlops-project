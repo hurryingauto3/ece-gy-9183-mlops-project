{
 "cells": [
  {
   "cell_type": "code",
   "execution_count": 8,
   "id": "4b3328a1",
   "metadata": {},
   "outputs": [],
   "source": [
    "from torch.utils.data import Dataset\n",
    "import torch\n",
    "import pandas as pd\n",
    "import json\n",
    "import os\n",
    "from pathlib import Path\n",
    "import torch\n",
    "import torch.nn as nn\n",
    "\n",
    "class CropYieldDataset(Dataset):\n",
    "    def __init__(self, data_lake_dir=\"../data/data_lake_organized\", crop_name=\"corn\", transform=None):\n",
    "        self.samples = []\n",
    "        self.transform = transform\n",
    "        self.crop_name = crop_name.lower()\n",
    "        \n",
    "        fips_folders = [f for f in Path(data_lake_dir).iterdir() if f.is_dir()]\n",
    "        \n",
    "        for fips_folder in fips_folders:\n",
    "            crop_json_path = fips_folder / f\"{self.crop_name}.json\"\n",
    "            if not crop_json_path.exists():\n",
    "                continue\n",
    "            \n",
    "            with open(crop_json_path, 'r') as f:\n",
    "                yield_data = json.load(f)\n",
    "            \n",
    "            year_folders = [y for y in fips_folder.iterdir() if y.is_dir()]\n",
    "            \n",
    "            for year_folder in year_folders:\n",
    "                year = year_folder.name\n",
    "                weather_csv = year_folder / f\"WeatherTimeSeries{year}.csv\"\n",
    "                \n",
    "                if not weather_csv.exists():\n",
    "                    continue\n",
    "                if year not in yield_data:\n",
    "                    continue\n",
    "                \n",
    "                df = pd.read_csv(weather_csv)\n",
    "                \n",
    "                # Only keep April–October\n",
    "                df = df[(df['Month'] >= 4) & (df['Month'] <= 10)]\n",
    "\n",
    "                # Drop non-weather columns\n",
    "                df = df.drop(columns=['Year', 'Month', 'Day'], errors='ignore')\n",
    "\n",
    "                # Make sure it's float tensor\n",
    "                weather_tensor = torch.tensor(df.values, dtype=torch.float32)\n",
    "\n",
    "                # Target\n",
    "                yield_target = torch.tensor(yield_data[year]['yield'], dtype=torch.float32)\n",
    "\n",
    "                self.samples.append((weather_tensor, yield_target))\n",
    "    \n",
    "    def __len__(self):\n",
    "        return len(self.samples)\n",
    "\n",
    "    def __getitem__(self, idx):\n",
    "        x, y = self.samples[idx]\n",
    "        if self.transform:\n",
    "            x = self.transform(x)\n",
    "        return x, y"
   ]
  },
  {
   "cell_type": "markdown",
   "id": "55e80b0b",
   "metadata": {},
   "source": [
    "LSTM + TCN MODEL"
   ]
  },
  {
   "cell_type": "code",
   "execution_count": 9,
   "id": "621ae296",
   "metadata": {},
   "outputs": [],
   "source": [
    "class LSTMTCNRegressor(nn.Module):\n",
    "    def __init__(self, input_dim, hidden_dim=64, lstm_layers=1, tcn_channels=[64, 32]):\n",
    "        super(LSTMTCNRegressor, self).__init__()\n",
    "        \n",
    "        self.lstm = nn.LSTM(input_dim, hidden_dim, num_layers=lstm_layers, batch_first=True)\n",
    "        \n",
    "        # TCN part: using 1D Convolutions\n",
    "        self.tcn = nn.Sequential(\n",
    "            nn.Conv1d(hidden_dim, tcn_channels[0], kernel_size=3, padding=1),\n",
    "            nn.ReLU(),\n",
    "            nn.Conv1d(tcn_channels[0], tcn_channels[1], kernel_size=3, padding=1),\n",
    "            nn.ReLU(),\n",
    "            nn.AdaptiveAvgPool1d(1)  # output shape: (batch, channels, 1)\n",
    "        )\n",
    "        \n",
    "        self.fc = nn.Linear(tcn_channels[-1], 1)\n",
    "    \n",
    "    def forward(self, x):\n",
    "        # x shape: (batch, time_steps, features)\n",
    "        out, _ = self.lstm(x)  # (batch, time_steps, hidden_dim)\n",
    "        out = out.permute(0, 2, 1)  # (batch, hidden_dim, time_steps) for Conv1D\n",
    "        out = self.tcn(out)  # (batch, channels, 1)\n",
    "        out = out.squeeze(-1)  # (batch, channels)\n",
    "        out = self.fc(out)  # (batch, 1)\n",
    "        return out.squeeze(-1)"
   ]
  },
  {
   "cell_type": "markdown",
   "id": "d29112fb",
   "metadata": {},
   "source": [
    "Training Loop"
   ]
  },
  {
   "cell_type": "code",
   "execution_count": null,
   "id": "08584701",
   "metadata": {},
   "outputs": [],
   "source": [
    "from torch.utils.data import DataLoader\n",
    "import torch.optim as optim\n",
    "import tqdm\n",
    "\n",
    "def train_model(model, dataloader, num_epochs=30, lr=1e-3):\n",
    "    device = torch.device(\"cuda\" if torch.cuda.is_available() else \"cpu\")\n",
    "    model = model.to(device)\n",
    "    \n",
    "    criterion = nn.MSELoss()\n",
    "    optimizer = optim.Adam(model.parameters(), lr=lr)\n",
    "    \n",
    "    model.train()\n",
    "    for epoch in tqdm.tqdm(range(num_epochs), desc=\"Training Progress\"):\n",
    "        epoch_loss = 0\n",
    "        for x_batch, y_batch in dataloader:\n",
    "            x_batch, y_batch = x_batch.to(device), y_batch.to(device)\n",
    "            \n",
    "            optimizer.zero_grad()\n",
    "            y_pred = model(x_batch)\n",
    "            loss = criterion(y_pred, y_batch)\n",
    "            loss.backward()\n",
    "            optimizer.step()\n",
    "            \n",
    "            epoch_loss += loss.item()\n",
    "        \"\"\" tqdm.tqdm.write(f\"Epoch {epoch+1}/{num_epochs} - Loss: {epoch_loss/len(dataloader):.4f}\")\n",
    "        tqdm.tqdm.set_description(f\"Training Progress (Epoch {epoch+1} Loss: {epoch_loss/len(dataloader):.4f})\") \"\"\"\n",
    "    \n",
    "    return model"
   ]
  },
  {
   "cell_type": "markdown",
   "id": "b736232f",
   "metadata": {},
   "source": []
  },
  {
   "cell_type": "code",
   "execution_count": 15,
   "id": "baff4e42",
   "metadata": {},
   "outputs": [
    {
     "name": "stderr",
     "output_type": "stream",
     "text": [
      "Training Progress:   0%|          | 0/30 [00:00<?, ?it/s]"
     ]
    },
    {
     "name": "stdout",
     "output_type": "stream",
     "text": [
      "Epoch 1/30 - Loss: 37302.2196\n"
     ]
    },
    {
     "name": "stderr",
     "output_type": "stream",
     "text": [
      "\n"
     ]
    },
    {
     "ename": "AttributeError",
     "evalue": "'str' object has no attribute 'desc'",
     "output_type": "error",
     "traceback": [
      "\u001b[1;31m---------------------------------------------------------------------------\u001b[0m",
      "\u001b[1;31mAttributeError\u001b[0m                            Traceback (most recent call last)",
      "Cell \u001b[1;32mIn[15], line 8\u001b[0m\n\u001b[0;32m      5\u001b[0m input_dim \u001b[38;5;241m=\u001b[39m \u001b[38;5;28mnext\u001b[39m(\u001b[38;5;28miter\u001b[39m(dataloader))[\u001b[38;5;241m0\u001b[39m]\u001b[38;5;241m.\u001b[39mshape[\u001b[38;5;241m-\u001b[39m\u001b[38;5;241m1\u001b[39m]\n\u001b[0;32m      7\u001b[0m model \u001b[38;5;241m=\u001b[39m LSTMTCNRegressor(input_dim\u001b[38;5;241m=\u001b[39minput_dim)\n\u001b[1;32m----> 8\u001b[0m trained_model \u001b[38;5;241m=\u001b[39m \u001b[43mtrain_model\u001b[49m\u001b[43m(\u001b[49m\u001b[43mmodel\u001b[49m\u001b[43m,\u001b[49m\u001b[43m \u001b[49m\u001b[43mdataloader\u001b[49m\u001b[43m)\u001b[49m\n",
      "Cell \u001b[1;32mIn[14], line 26\u001b[0m, in \u001b[0;36mtrain_model\u001b[1;34m(model, dataloader, num_epochs, lr)\u001b[0m\n\u001b[0;32m     24\u001b[0m         epoch_loss \u001b[38;5;241m+\u001b[39m\u001b[38;5;241m=\u001b[39m loss\u001b[38;5;241m.\u001b[39mitem()\n\u001b[0;32m     25\u001b[0m     tqdm\u001b[38;5;241m.\u001b[39mtqdm\u001b[38;5;241m.\u001b[39mwrite(\u001b[38;5;124mf\u001b[39m\u001b[38;5;124m\"\u001b[39m\u001b[38;5;124mEpoch \u001b[39m\u001b[38;5;132;01m{\u001b[39;00mepoch\u001b[38;5;241m+\u001b[39m\u001b[38;5;241m1\u001b[39m\u001b[38;5;132;01m}\u001b[39;00m\u001b[38;5;124m/\u001b[39m\u001b[38;5;132;01m{\u001b[39;00mnum_epochs\u001b[38;5;132;01m}\u001b[39;00m\u001b[38;5;124m - Loss: \u001b[39m\u001b[38;5;132;01m{\u001b[39;00mepoch_loss\u001b[38;5;241m/\u001b[39m\u001b[38;5;28mlen\u001b[39m(dataloader)\u001b[38;5;132;01m:\u001b[39;00m\u001b[38;5;124m.4f\u001b[39m\u001b[38;5;132;01m}\u001b[39;00m\u001b[38;5;124m\"\u001b[39m)\n\u001b[1;32m---> 26\u001b[0m     \u001b[43mtqdm\u001b[49m\u001b[38;5;241;43m.\u001b[39;49m\u001b[43mtqdm\u001b[49m\u001b[38;5;241;43m.\u001b[39;49m\u001b[43mset_description\u001b[49m\u001b[43m(\u001b[49m\u001b[38;5;124;43mf\u001b[39;49m\u001b[38;5;124;43m\"\u001b[39;49m\u001b[38;5;124;43mTraining Progress (Epoch \u001b[39;49m\u001b[38;5;132;43;01m{\u001b[39;49;00m\u001b[43mepoch\u001b[49m\u001b[38;5;241;43m+\u001b[39;49m\u001b[38;5;241;43m1\u001b[39;49m\u001b[38;5;132;43;01m}\u001b[39;49;00m\u001b[38;5;124;43m Loss: \u001b[39;49m\u001b[38;5;132;43;01m{\u001b[39;49;00m\u001b[43mepoch_loss\u001b[49m\u001b[38;5;241;43m/\u001b[39;49m\u001b[38;5;28;43mlen\u001b[39;49m\u001b[43m(\u001b[49m\u001b[43mdataloader\u001b[49m\u001b[43m)\u001b[49m\u001b[38;5;132;43;01m:\u001b[39;49;00m\u001b[38;5;124;43m.4f\u001b[39;49m\u001b[38;5;132;43;01m}\u001b[39;49;00m\u001b[38;5;124;43m)\u001b[39;49m\u001b[38;5;124;43m\"\u001b[39;49m\u001b[43m)\u001b[49m\n\u001b[0;32m     28\u001b[0m \u001b[38;5;28;01mreturn\u001b[39;00m model\n",
      "File \u001b[1;32mc:\\Users\\saadh\\anaconda3\\Lib\\site-packages\\tqdm\\std.py:1392\u001b[0m, in \u001b[0;36mtqdm.set_description\u001b[1;34m(self, desc, refresh)\u001b[0m\n\u001b[0;32m   1382\u001b[0m \u001b[38;5;28;01mdef\u001b[39;00m \u001b[38;5;21mset_description\u001b[39m(\u001b[38;5;28mself\u001b[39m, desc\u001b[38;5;241m=\u001b[39m\u001b[38;5;28;01mNone\u001b[39;00m, refresh\u001b[38;5;241m=\u001b[39m\u001b[38;5;28;01mTrue\u001b[39;00m):\n\u001b[0;32m   1383\u001b[0m \u001b[38;5;250m    \u001b[39m\u001b[38;5;124;03m\"\"\"\u001b[39;00m\n\u001b[0;32m   1384\u001b[0m \u001b[38;5;124;03m    Set/modify description of the progress bar.\u001b[39;00m\n\u001b[0;32m   1385\u001b[0m \n\u001b[1;32m   (...)\u001b[0m\n\u001b[0;32m   1390\u001b[0m \u001b[38;5;124;03m        Forces refresh [default: True].\u001b[39;00m\n\u001b[0;32m   1391\u001b[0m \u001b[38;5;124;03m    \"\"\"\u001b[39;00m\n\u001b[1;32m-> 1392\u001b[0m     \u001b[38;5;28;43mself\u001b[39;49m\u001b[38;5;241;43m.\u001b[39;49m\u001b[43mdesc\u001b[49m \u001b[38;5;241m=\u001b[39m desc \u001b[38;5;241m+\u001b[39m \u001b[38;5;124m'\u001b[39m\u001b[38;5;124m: \u001b[39m\u001b[38;5;124m'\u001b[39m \u001b[38;5;28;01mif\u001b[39;00m desc \u001b[38;5;28;01melse\u001b[39;00m \u001b[38;5;124m'\u001b[39m\u001b[38;5;124m'\u001b[39m\n\u001b[0;32m   1393\u001b[0m     \u001b[38;5;28;01mif\u001b[39;00m refresh:\n\u001b[0;32m   1394\u001b[0m         \u001b[38;5;28mself\u001b[39m\u001b[38;5;241m.\u001b[39mrefresh()\n",
      "\u001b[1;31mAttributeError\u001b[0m: 'str' object has no attribute 'desc'"
     ]
    }
   ],
   "source": [
    "dataset = CropYieldDataset(crop_name=\"corn\")\n",
    "dataloader = DataLoader(dataset, batch_size=32, shuffle=True, collate_fn=lambda x: (nn.utils.rnn.pad_sequence([i[0] for i in x], batch_first=True), torch.stack([i[1] for i in x])))\n",
    "\n",
    "# Example input_dim = number of weather features\n",
    "input_dim = next(iter(dataloader))[0].shape[-1]\n",
    "\n",
    "model = LSTMTCNRegressor(input_dim=input_dim)\n",
    "trained_model = train_model(model, dataloader)"
   ]
  },
  {
   "cell_type": "code",
   "execution_count": null,
   "id": "9452cd9b",
   "metadata": {},
   "outputs": [],
   "source": []
  }
 ],
 "metadata": {
  "kernelspec": {
   "display_name": "base",
   "language": "python",
   "name": "python3"
  },
  "language_info": {
   "codemirror_mode": {
    "name": "ipython",
    "version": 3
   },
   "file_extension": ".py",
   "mimetype": "text/x-python",
   "name": "python",
   "nbconvert_exporter": "python",
   "pygments_lexer": "ipython3",
   "version": "3.12.7"
  }
 },
 "nbformat": 4,
 "nbformat_minor": 5
}
