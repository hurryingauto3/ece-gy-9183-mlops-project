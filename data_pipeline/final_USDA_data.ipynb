{
  "cells": [
    {
      "cell_type": "code",
      "execution_count": 67,
      "metadata": {
        "colab": {
          "base_uri": "https://localhost:8080/"
        },
        "id": "AKb_TpMCJT9B",
        "outputId": "761b3997-9816-4eb7-98b2-6c49a5a71fad"
      },
      "outputs": [
        {
          "name": "stdout",
          "output_type": "stream",
          "text": [
            "Drive already mounted at /content/drive; to attempt to forcibly remount, call drive.mount(\"/content/drive\", force_remount=True).\n"
          ]
        }
      ],
      "source": [
        "from google.colab import drive\n",
        "drive.mount('/content/drive')\n"
      ]
    },
    {
      "cell_type": "code",
      "execution_count": 72,
      "metadata": {
        "colab": {
          "base_uri": "https://localhost:8080/"
        },
        "id": "5F-3t8xKMHbH",
        "outputId": "5f7761d1-7f8e-470a-8368-a4bb1fa37216"
      },
      "outputs": [
        {
          "name": "stdout",
          "output_type": "stream",
          "text": [
            "Processing: /content/drive/MyDrive/MlOps_Project/USDA Crop Dataset/data/Corn/2017/USDA_Corn_County_2017.csv\n",
            "Processing: /content/drive/MyDrive/MlOps_Project/USDA Crop Dataset/data/Corn/2018/USDA_Corn_County_2018.csv\n",
            "Processing: /content/drive/MyDrive/MlOps_Project/USDA Crop Dataset/data/Corn/2019/USDA_Corn_County_2019.csv\n",
            "Processing: /content/drive/MyDrive/MlOps_Project/USDA Crop Dataset/data/Corn/2020/USDA_Corn_County_2020.csv\n",
            "Processing: /content/drive/MyDrive/MlOps_Project/USDA Crop Dataset/data/Corn/2021/USDA_Corn_County_2021.csv\n",
            "Processing: /content/drive/MyDrive/MlOps_Project/USDA Crop Dataset/data/Corn/2022/USDA_Corn_County_2022.csv\n",
            "Final combined file for Corn saved at: /content/drive/MyDrive/MlOps_Project/USDA_Corn_combined.csv\n",
            "Processing: /content/drive/MyDrive/MlOps_Project/USDA Crop Dataset/data/Soybeans/2017/USDA_Soybean_County_2017.csv\n",
            "Processing: /content/drive/MyDrive/MlOps_Project/USDA Crop Dataset/data/Soybeans/2018/USDA_Soybean_County_2018.csv\n",
            "Processing: /content/drive/MyDrive/MlOps_Project/USDA Crop Dataset/data/Soybeans/2019/USDA_Soybean_County_2019.csv\n",
            "Processing: /content/drive/MyDrive/MlOps_Project/USDA Crop Dataset/data/Soybeans/2020/USDA_Soybean_County_2020.csv\n",
            "Processing: /content/drive/MyDrive/MlOps_Project/USDA Crop Dataset/data/Soybeans/2021/USDA_Soybean_County_2021.csv\n",
            "Processing: /content/drive/MyDrive/MlOps_Project/USDA Crop Dataset/data/Soybeans/2022/USDA_Soybean_County_2022.csv\n",
            "Final combined file for Soybean saved at: /content/drive/MyDrive/MlOps_Project/USDA_Soybean_combined.csv\n",
            "Processing: /content/drive/MyDrive/MlOps_Project/USDA Crop Dataset/data/Cotton/2017/USDA_Cotton_County_2017.csv\n",
            "Processing: /content/drive/MyDrive/MlOps_Project/USDA Crop Dataset/data/Cotton/2018/USDA_Cotton_County_2018.csv\n",
            "Processing: /content/drive/MyDrive/MlOps_Project/USDA Crop Dataset/data/Cotton/2019/USDA_Cotton_County_2019.csv\n",
            "Processing: /content/drive/MyDrive/MlOps_Project/USDA Crop Dataset/data/Cotton/2020/USDA_Cotton_County_2020.csv\n",
            "Processing: /content/drive/MyDrive/MlOps_Project/USDA Crop Dataset/data/Cotton/2021/USDA_Cotton_County_2021.csv\n",
            "Processing: /content/drive/MyDrive/MlOps_Project/USDA Crop Dataset/data/Cotton/2022/USDA_Cotton_County_2022.csv\n",
            "Final combined file for Cotton saved at: /content/drive/MyDrive/MlOps_Project/USDA_Cotton_combined.csv\n",
            "Processing: /content/drive/MyDrive/MlOps_Project/USDA Crop Dataset/data/WinterWheat/2017/USDA_WinterWheat_County_2017.csv\n",
            "Processing: /content/drive/MyDrive/MlOps_Project/USDA Crop Dataset/data/WinterWheat/2018/USDA_WinterWheat_County_2018.csv\n",
            "Processing: /content/drive/MyDrive/MlOps_Project/USDA Crop Dataset/data/WinterWheat/2019/USDA_WinterWheat_County_2019.csv\n",
            "Processing: /content/drive/MyDrive/MlOps_Project/USDA Crop Dataset/data/WinterWheat/2020/USDA_WinterWheat_County_2020.csv\n",
            "Processing: /content/drive/MyDrive/MlOps_Project/USDA Crop Dataset/data/WinterWheat/2021/USDA_WinterWheat_County_2021.csv\n",
            "Processing: /content/drive/MyDrive/MlOps_Project/USDA Crop Dataset/data/WinterWheat/2022/USDA_WinterWheat_County_2022.csv\n",
            "Final combined file for WinterWheat saved at: /content/drive/MyDrive/MlOps_Project/USDA_WinterWheat_combined.csv\n"
          ]
        }
      ],
      "source": [
        "import os\n",
        "import pandas as pd\n",
        "\n",
        "# Base directory for raw data\n",
        "base_dir = \"/content/drive/MyDrive/MlOps_Project/USDA Crop Dataset/data/\"\n",
        "\n",
        "# Output folder for combined crops\n",
        "output_folder = \"/content/drive/MyDrive/MlOps_Project/\"\n",
        "\n",
        "# Target crops and years\n",
        "crops = [\"Corn\", \"Soybean\", \"Cotton\", \"WinterWheat\"]\n",
        "years = [\"2017\", \"2018\", \"2019\", \"2020\", \"2021\", \"2022\"]\n",
        "\n",
        "for crop in crops:\n",
        "    # Placeholder for data of this crop\n",
        "    crop_data = []\n",
        "\n",
        "    for year in years:\n",
        "        # 🛠 Fix crop name for folder\n",
        "        folder_crop = crop\n",
        "        if crop == \"Soybean\":\n",
        "            folder_crop = \"Soybeans\"\n",
        "\n",
        "        # Build the input file path\n",
        "        filename = f\"USDA_{crop}_County_{year}.csv\"\n",
        "        file_path = os.path.join(base_dir, folder_crop, str(year), filename)\n",
        "\n",
        "        if not os.path.exists(file_path):\n",
        "            print(f\"File not found: {file_path}\")\n",
        "            continue\n",
        "\n",
        "        print(f\"Processing: {file_path}\")\n",
        "\n",
        "        try:\n",
        "            # Read the file\n",
        "            data = pd.read_csv(file_path)\n",
        "\n",
        "            # 🛠 Fix column names immediately\n",
        "            data.columns = data.columns.str.replace(\",\", \"_\").str.strip()\n",
        "\n",
        "            # Drop unnecessary columns\n",
        "            columns_to_drop = [\"reference_period_desc\", \"agg_level_desc\", \"source_desc\", \"domain_desc\", \"county_name\", \"state_name\", \"asd_desc\"]\n",
        "            data = data.drop(columns=columns_to_drop, errors='ignore')\n",
        "\n",
        "            # Create FIPS code\n",
        "            data['fips'] = data['state_ansi'].astype(str).str.zfill(2) + data['county_ansi'].astype(str).str.zfill(3)\n",
        "            data['fips'] = data['fips'].astype(str)\n",
        "\n",
        "            # Drop state and county ANSI\n",
        "            data = data.drop(columns=[\"state_ansi\", \"county_ansi\"], errors='ignore')\n",
        "\n",
        "            # Add to crop_data\n",
        "            crop_data.append(data)\n",
        "\n",
        "        except Exception as e:\n",
        "            print(f\"Error processing {file_path}: {e}\")\n",
        "\n",
        "    # After all years are done for this crop\n",
        "    if crop_data:\n",
        "        final_crop_df = pd.concat(crop_data, ignore_index=True)\n",
        "        # Save to a separate CSV per crop\n",
        "        crop_output_path = os.path.join(output_folder, f\"USDA_{crop}_combined.csv\")\n",
        "        final_crop_df.to_csv(crop_output_path, index=False)\n",
        "        print(f\"Final combined file for {crop} saved at: {crop_output_path}\")\n",
        "    else:\n",
        "        print(f\"No data found for {crop}.\")\n"
      ]
    }
  ],
  "metadata": {
    "colab": {
      "provenance": []
    },
    "kernelspec": {
      "display_name": "Python 3.11.4 ('base')",
      "language": "python",
      "name": "python3"
    },
    "language_info": {
      "name": "python",
      "version": "3.11.4"
    },
    "vscode": {
      "interpreter": {
        "hash": "c5f29ab0bd70a3fdfe3350be4806661ff87a7ec1a414855bb5824b269ce85de1"
      }
    }
  },
  "nbformat": 4,
  "nbformat_minor": 0
}
