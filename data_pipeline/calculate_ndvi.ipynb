{
  "nbformat": 4,
  "nbformat_minor": 0,
  "metadata": {
    "colab": {
      "provenance": [],
      "machine_shape": "hm",
      "gpuType": "V28"
    },
    "kernelspec": {
      "name": "python3",
      "display_name": "Python 3"
    },
    "language_info": {
      "name": "python"
    },
    "accelerator": "TPU"
  },
  "cells": [
    {
      "cell_type": "markdown",
      "source": [
        "Testing on 2022 data on google drive"
      ],
      "metadata": {
        "id": "pHJyImLDtP3I"
      }
    },
    {
      "cell_type": "code",
      "source": [
        "import os\n",
        "import h5py\n",
        "import numpy as np\n",
        "import pandas as pd\n",
        "\n",
        "# Path to  Sentinel NDVI HDF5 folder\n",
        "input_folder = \"/content/drive/MyDrive/MlOps_Project/NDVI/2022/OH\"\n",
        "\n",
        "# Placeholder for NDVI results\n",
        "ndvi_records = []\n",
        "\n",
        "# Loop through all H5 files\n",
        "for filename in os.listdir(input_folder):\n",
        "    if filename.endswith(\".h5\"):\n",
        "        file_path = os.path.join(input_folder, filename)\n",
        "        print(f\"Processing {filename}\")\n",
        "\n",
        "        try:\n",
        "            with h5py.File(file_path, \"r\") as f:\n",
        "                for fips in f.keys():\n",
        "                    for date in f[fips].keys():\n",
        "                        group = f[fips][date]\n",
        "\n",
        "                        # Check for required bands\n",
        "                        if \"data\" not in group:\n",
        "                            print(f\"⚠️ No 'data' in {filename} -> {fips} / {date}\")\n",
        "                            continue\n",
        "\n",
        "                        try:\n",
        "                            data = group[\"data\"][:]  # shape: (time, height, width, bands)\n",
        "\n",
        "                            for i, tile in enumerate(data):\n",
        "                                # Sentinel band assumption: last axis [Red, NIR]\n",
        "                                red = tile[:, :, 0].astype(np.float32)\n",
        "                                nir = tile[:, :, 1].astype(np.float32)\n",
        "\n",
        "                                ndvi = (nir - red) / (nir + red + 1e-5)\n",
        "                                ndvi = np.clip(ndvi, -1, 1)\n",
        "\n",
        "                                mean_ndvi = np.nanmean(ndvi)\n",
        "\n",
        "                                ndvi_records.append({\n",
        "                                    \"filename\": filename,\n",
        "                                    \"fips\": fips,\n",
        "                                    \"date\": date,\n",
        "                                    \"tile_index\": i,\n",
        "                                    \"mean_ndvi\": mean_ndvi\n",
        "                                })\n",
        "\n",
        "                        except Exception as e:\n",
        "                            print(f\"❌ Error processing {filename} -> {fips}/{date}: {e}\")\n",
        "        except Exception as e:\n",
        "            print(f\"❌ Cannot open file {filename}: {e}\")\n",
        "\n",
        "# Save to CSV\n",
        "output_df = pd.DataFrame(ndvi_records)\n",
        "csv_path = os.path.join(\"/content/drive/MyDrive/MlOps_Project/\", \"ndvi_summary.csv\")\n",
        "output_df.to_csv(csv_path, index=False)\n",
        "print(f\"✅ NDVI summary saved to: {csv_path}\")\n"
      ],
      "metadata": {
        "colab": {
          "base_uri": "https://localhost:8080/"
        },
        "id": "n5OsEGf2EwhO",
        "outputId": "973e27ff-da13-4912-c3e2-387b906d0018"
      },
      "execution_count": 47,
      "outputs": [
        {
          "output_type": "stream",
          "name": "stdout",
          "text": [
            "Processing Vegetation_39_OH_2022-01-01_2022-03-31.h5\n",
            "Processing Vegetation_39_OH_2022-04-01_2022-06-30.h5\n",
            "Processing Vegetation_39_OH_2022-07-01_2022-09-30.h5\n",
            "Processing Vegetation_39_OH_2022-10-01_2022-12-31.h5\n",
            "✅ NDVI summary saved to: /content/drive/MyDrive/MlOps_Project/ndvi_summary.csv\n"
          ]
        }
      ]
    }
  ]
}