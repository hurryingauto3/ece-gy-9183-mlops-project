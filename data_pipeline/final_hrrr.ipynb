{
  "cells": [
    {
      "cell_type": "code",
      "execution_count": null,
      "metadata": {
        "colab": {
          "base_uri": "https://localhost:8080/"
        },
        "id": "-MQFWrL4wjDo",
        "outputId": "d56a7e59-8340-4a40-e984-4c70f5c38e95"
      },
      "outputs": [],
      "source": [
        "from google.colab import drive\n",
        "drive.mount('/content/drive')\n"
      ]
    },
    {
      "cell_type": "code",
      "execution_count": null,
      "metadata": {
        "colab": {
          "base_uri": "https://localhost:8080/"
        },
        "id": "KJX3rt-Yx9a3",
        "outputId": "bbb3fc59-96bc-443d-e31c-34a76d4a7bc7"
      },
      "outputs": [],
      "source": [
        "import os\n",
        "import pandas as pd\n",
        "\n",
        "# Base directory\n",
        "base_dir = \"/content/drive/MyDrive/MlOps_Project/WRF-HRRR Computed Dataset/data/2021/CA\"\n",
        "\n",
        "# Output folder\n",
        "output_folder = \"/content/drive/MyDrive/MlOps_Project/\"\n",
        "\n",
        "# Target years\n",
        "years = [\"2017\", \"2018\", \"2019\", \"2020\", \"2021\", \"2022\"]\n",
        "\n",
        "# Placeholder for all HRRR data\n",
        "hrrr_records = []\n",
        "\n",
        "for year in years:\n",
        "    year_folder = os.path.join(base_dir, year)\n",
        "\n",
        "    # Loop over states inside year\n",
        "    for state_folder in os.listdir(year_folder):\n",
        "        state_path = os.path.join(year_folder, state_folder)\n",
        "\n",
        "        if not os.path.isdir(state_path):\n",
        "            continue  # Skip non-folder files\n",
        "\n",
        "        # Loop over CSV files inside state folder\n",
        "        for filename in os.listdir(base_dir):\n",
        "          if filename.endswith(\".csv\"):\n",
        "              file_path = os.path.join(base_dir, filename)\n",
        "              print(f\"Processing {file_path}\")\n",
        "\n",
        "              try:\n",
        "                  df = pd.read_csv(file_path)\n",
        "\n",
        "                  # If 'year', 'month', 'day' exist, combine them into 'date'\n",
        "                  if {'Year', 'Month', 'Day'}.issubset(df.columns):\n",
        "                      df['Date'] = pd.to_datetime(df[['Year', 'Month', 'Day']])\n",
        "                      df['Date'] = df['Date'].dt.strftime('%Y-%m-%d')\n",
        "                      df = df.drop(columns=['Year', 'Month', 'Day', 'State', 'County','Daily/Monthly'], errors='ignore')\n",
        "\n",
        "                  # Add to list\n",
        "                  hrrr_records.append(df)\n",
        "\n",
        "              except Exception as e:\n",
        "                  print(f\"Cannot open file {filename}: {e}\")\n",
        "\n",
        "# Now create final DataFrame\n",
        "if hrrr_records:\n",
        "    output_df = pd.concat(hrrr_records, ignore_index=True)\n",
        "\n",
        "    # Save final big CSV\n",
        "    csv_path = os.path.join(output_folder, \"hrrr_summary_all_years.csv\")\n",
        "    output_df.to_csv(csv_path, index=False)\n",
        "\n",
        "    print(f\"Final HRRR summary saved to: {csv_path}\")\n",
        "else:\n",
        "    print(\"No data processed.\")\n"
      ]
    }
  ],
  "metadata": {
    "colab": {
      "provenance": []
    },
    "kernelspec": {
      "display_name": "Python 3.11.4 ('base')",
      "language": "python",
      "name": "python3"
    },
    "language_info": {
      "name": "python",
      "version": "3.11.4"
    },
    "vscode": {
      "interpreter": {
        "hash": "c5f29ab0bd70a3fdfe3350be4806661ff87a7ec1a414855bb5824b269ce85de1"
      }
    }
  },
  "nbformat": 4,
  "nbformat_minor": 0
}
