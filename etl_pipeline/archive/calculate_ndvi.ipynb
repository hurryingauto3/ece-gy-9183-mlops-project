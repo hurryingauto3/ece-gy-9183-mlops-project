{
  "cells": [
    {
      "cell_type": "markdown",
      "metadata": {
        "id": "pHJyImLDtP3I"
      },
      "source": [
        "Testing on 2022 data on google drive"
      ]
    },
    {
      "cell_type": "code",
      "execution_count": null,
      "metadata": {
        "colab": {
          "base_uri": "https://localhost:8080/"
        },
        "id": "n5OsEGf2EwhO",
        "outputId": "973e27ff-da13-4912-c3e2-387b906d0018"
      },
      "outputs": [],
      "source": [
        "import os\n",
        "import h5py\n",
        "import numpy as np\n",
        "import pandas as pd\n",
        "\n",
        "# Path to  Sentinel NDVI HDF5 folder\n",
        "input_folder = \"/content/drive/MyDrive/MlOps_Project/NDVI/2022/OH\"\n",
        "\n",
        "# Placeholder for NDVI results\n",
        "ndvi_records = []\n",
        "\n",
        "# Loop through all H5 files\n",
        "for filename in os.listdir(input_folder):\n",
        "    if filename.endswith(\".h5\"):\n",
        "        file_path = os.path.join(input_folder, filename)\n",
        "        print(f\"Processing {filename}\")\n",
        "\n",
        "        try:\n",
        "            with h5py.File(file_path, \"r\") as f:\n",
        "                for fips in f.keys():\n",
        "                    for date in f[fips].keys():\n",
        "                        group = f[fips][date]\n",
        "\n",
        "                        # Check for required bands\n",
        "                        if \"data\" not in group:\n",
        "                            print(f\"⚠️ No 'data' in {filename} -> {fips} / {date}\")\n",
        "                            continue\n",
        "\n",
        "                        try:\n",
        "                            data = group[\"data\"][:]  # shape: (time, height, width, bands)\n",
        "\n",
        "                            for i, tile in enumerate(data):\n",
        "                                # Sentinel band assumption: last axis [Red, NIR]\n",
        "                                red = tile[:, :, 0].astype(np.float32)\n",
        "                                nir = tile[:, :, 1].astype(np.float32)\n",
        "\n",
        "                                ndvi = (nir - red) / (nir + red + 1e-5)\n",
        "                                ndvi = np.clip(ndvi, -1, 1)\n",
        "\n",
        "                                mean_ndvi = np.nanmean(ndvi)\n",
        "\n",
        "                                ndvi_records.append({\n",
        "                                    \"filename\": filename,\n",
        "                                    \"fips\": fips,\n",
        "                                    \"date\": date,\n",
        "                                    \"tile_index\": i,\n",
        "                                    \"mean_ndvi\": mean_ndvi\n",
        "                                })\n",
        "\n",
        "                        except Exception as e:\n",
        "                            print(f\"❌ Error processing {filename} -> {fips}/{date}: {e}\")\n",
        "        except Exception as e:\n",
        "            print(f\"❌ Cannot open file {filename}: {e}\")\n",
        "\n",
        "# Save to CSV\n",
        "output_df = pd.DataFrame(ndvi_records)\n",
        "csv_path = os.path.join(\"/content/drive/MyDrive/MlOps_Project/\", \"ndvi_summary.csv\")\n",
        "output_df.to_csv(csv_path, index=False)\n",
        "print(f\"✅ NDVI summary saved to: {csv_path}\")\n"
      ]
    }
  ],
  "metadata": {
    "accelerator": "TPU",
    "colab": {
      "gpuType": "V28",
      "machine_shape": "hm",
      "provenance": []
    },
    "kernelspec": {
      "display_name": "Python 3.11.4 ('base')",
      "language": "python",
      "name": "python3"
    },
    "language_info": {
      "name": "python",
      "version": "3.11.4"
    },
    "vscode": {
      "interpreter": {
        "hash": "c5f29ab0bd70a3fdfe3350be4806661ff87a7ec1a414855bb5824b269ce85de1"
      }
    }
  },
  "nbformat": 4,
  "nbformat_minor": 0
}
